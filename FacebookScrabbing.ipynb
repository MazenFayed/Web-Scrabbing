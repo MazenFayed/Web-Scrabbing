{
 "cells": [
  {
   "cell_type": "code",
   "execution_count": 6,
   "metadata": {},
   "outputs": [
    {
     "name": "stdout",
     "output_type": "stream",
     "text": [
      "len=  3\n",
      "\n",
      "72\n",
      "42\n",
      "94\n",
      "299\n"
     ]
    }
   ],
   "source": [
    "import os\n",
    "from selenium import webdriver\n",
    "from selenium.webdriver.chrome.service import Service\n",
    "from selenium.webdriver.common.by import By\n",
    "from selenium.webdriver.support.ui import WebDriverWait\n",
    "from selenium.webdriver.support import expected_conditions as EC\n",
    "import time\n",
    "\n",
    "options = webdriver.ChromeOptions()\n",
    "user_data_dir = os.path.abspath(\"MazenProfile1\")\n",
    "options.add_argument(\"--user-data-dir=\" + user_data_dir)\n",
    "\n",
    "#driver_path = \"E:\\Courses\\DataExploration\\test\\data\\chromedriver-win64\\chromedriver-win64\\chromedriver.exe\"\n",
    "#service = Service(driver_path)\n",
    "\n",
    "scrapper = webdriver.Chrome( options=options)\n",
    "#print(\"m\" * 100)\n",
    "scrapper.get(\"https://www.facebook.com/EgyptianCabinet\")\n",
    "\n",
    "\n",
    "\n",
    "pause_time = 2\n",
    "last_height = scrapper.execute_script(\"return document.body.scrollHeight\")\n",
    "like=[]\n",
    "#while True:\n",
    "for i in range(3):\n",
    "    # Scroll down to the bottom of the page\n",
    "    scrapper.execute_script(\"window.scrollTo(0, document.body.scrollHeight);\")\n",
    "    \n",
    "    # Wait for the page to load new content\n",
    "    time.sleep(10)\n",
    "    \n",
    "    # Calculate new scroll height and compare with last scroll height\n",
    "    new_height = scrapper.execute_script(\"return document.body.scrollHeight\")\n",
    "    if new_height == last_height:\n",
    "        # If the heights are the same, break the loop\n",
    "        break\n",
    "    last_height = new_height\n",
    "    like.append(scrapper.find_elements(\"xpath\",\"//div/div/div/div/div/div/div/div/div/div/div/div/div/div/div/div/div/div/div/div/div/div/div/div/div/div/div/div[13]/div/div/div[4]/div/div/div[1]/div/div[1]/div/div[1]/div/span/div/span[2]/span/span\")\n",
    ")\n",
    "print(\"len= \",len(like))\n",
    "    \n",
    "likes = scrapper.find_elements(\"xpath\",\"//div/div/div/div/div/div/div/div/div/div/div/div/div/div/div/div/div/div/div/div/div/div/div/div/div/div/div/div[13]/div/div/div[4]/div/div/div[1]/div/div[1]/div/div[1]/div/span/div/span[2]/span/span\")\n",
    "for item in likes:\n",
    "    #rates.append(item.text)\n",
    "    print(item.text)"
   ]
  },
  {
   "cell_type": "code",
   "execution_count": 6,
   "metadata": {},
   "outputs": [
    {
     "name": "stdout",
     "output_type": "stream",
     "text": [
      "3\n"
     ]
    },
    {
     "ename": "StaleElementReferenceException",
     "evalue": "Message: stale element reference: stale element not found in the current frame\n  (Session info: chrome=133.0.6943.99); For documentation on this error, please visit: https://www.selenium.dev/documentation/webdriver/troubleshooting/errors#stale-element-reference-exception\nStacktrace:\n\tGetHandleVerifier [0x00007FF778966F15+28773]\n\t(No symbol) [0x00007FF7788D2600]\n\t(No symbol) [0x00007FF778768FAA]\n\t(No symbol) [0x00007FF7787709B9]\n\t(No symbol) [0x00007FF77877377C]\n\t(No symbol) [0x00007FF77877384F]\n\t(No symbol) [0x00007FF7787B8EC6]\n\t(No symbol) [0x00007FF7787E724A]\n\t(No symbol) [0x00007FF7787B1B36]\n\t(No symbol) [0x00007FF7787E7460]\n\t(No symbol) [0x00007FF77880F6F3]\n\t(No symbol) [0x00007FF7787E7023]\n\t(No symbol) [0x00007FF7787AFF5E]\n\t(No symbol) [0x00007FF7787B11E3]\n\tGetHandleVerifier [0x00007FF778CB425D+3490733]\n\tGetHandleVerifier [0x00007FF778CCBA43+3586963]\n\tGetHandleVerifier [0x00007FF778CC147D+3544525]\n\tGetHandleVerifier [0x00007FF778A2C9DA+838442]\n\t(No symbol) [0x00007FF7788DD04F]\n\t(No symbol) [0x00007FF7788D9614]\n\t(No symbol) [0x00007FF7788D97B6]\n\t(No symbol) [0x00007FF7788C8CE9]\n\tBaseThreadInitThunk [0x00007FFDC321E8D7+23]\n\tRtlUserThreadStart [0x00007FFDC3F1BF2C+44]\n",
     "output_type": "error",
     "traceback": [
      "\u001b[1;31m---------------------------------------------------------------------------\u001b[0m",
      "\u001b[1;31mStaleElementReferenceException\u001b[0m            Traceback (most recent call last)",
      "Cell \u001b[1;32mIn[6], line 5\u001b[0m\n\u001b[0;32m      3\u001b[0m \u001b[38;5;28mprint\u001b[39m(\u001b[38;5;28mlen\u001b[39m(item))\n\u001b[0;32m      4\u001b[0m \u001b[38;5;28;01mfor\u001b[39;00m data \u001b[38;5;129;01min\u001b[39;00m item:\n\u001b[1;32m----> 5\u001b[0m     \u001b[38;5;28mprint\u001b[39m(\u001b[43mdata\u001b[49m\u001b[38;5;241;43m.\u001b[39;49m\u001b[43mtext\u001b[49m)\n",
      "File \u001b[1;32mc:\\Users\\mazen\\AppData\\Local\\Programs\\Python\\Python313\\Lib\\site-packages\\selenium\\webdriver\\remote\\webelement.py:109\u001b[0m, in \u001b[0;36mWebElement.text\u001b[1;34m(self)\u001b[0m\n\u001b[0;32m     96\u001b[0m \u001b[38;5;129m@property\u001b[39m\n\u001b[0;32m     97\u001b[0m \u001b[38;5;28;01mdef\u001b[39;00m\u001b[38;5;250m \u001b[39m\u001b[38;5;21mtext\u001b[39m(\u001b[38;5;28mself\u001b[39m) \u001b[38;5;241m-\u001b[39m\u001b[38;5;241m>\u001b[39m \u001b[38;5;28mstr\u001b[39m:\n\u001b[0;32m     98\u001b[0m \u001b[38;5;250m    \u001b[39m\u001b[38;5;124;03m\"\"\"The text of the element.\u001b[39;00m\n\u001b[0;32m     99\u001b[0m \n\u001b[0;32m    100\u001b[0m \u001b[38;5;124;03m    Returns:\u001b[39;00m\n\u001b[1;32m   (...)\u001b[0m\n\u001b[0;32m    107\u001b[0m \u001b[38;5;124;03m    >>> print(element.text)\u001b[39;00m\n\u001b[0;32m    108\u001b[0m \u001b[38;5;124;03m    \"\"\"\u001b[39;00m\n\u001b[1;32m--> 109\u001b[0m     \u001b[38;5;28;01mreturn\u001b[39;00m \u001b[38;5;28;43mself\u001b[39;49m\u001b[38;5;241;43m.\u001b[39;49m\u001b[43m_execute\u001b[49m\u001b[43m(\u001b[49m\u001b[43mCommand\u001b[49m\u001b[38;5;241;43m.\u001b[39;49m\u001b[43mGET_ELEMENT_TEXT\u001b[49m\u001b[43m)\u001b[49m[\u001b[38;5;124m\"\u001b[39m\u001b[38;5;124mvalue\u001b[39m\u001b[38;5;124m\"\u001b[39m]\n",
      "File \u001b[1;32mc:\\Users\\mazen\\AppData\\Local\\Programs\\Python\\Python313\\Lib\\site-packages\\selenium\\webdriver\\remote\\webelement.py:570\u001b[0m, in \u001b[0;36mWebElement._execute\u001b[1;34m(self, command, params)\u001b[0m\n\u001b[0;32m    568\u001b[0m     params \u001b[38;5;241m=\u001b[39m {}\n\u001b[0;32m    569\u001b[0m params[\u001b[38;5;124m\"\u001b[39m\u001b[38;5;124mid\u001b[39m\u001b[38;5;124m\"\u001b[39m] \u001b[38;5;241m=\u001b[39m \u001b[38;5;28mself\u001b[39m\u001b[38;5;241m.\u001b[39m_id\n\u001b[1;32m--> 570\u001b[0m \u001b[38;5;28;01mreturn\u001b[39;00m \u001b[38;5;28;43mself\u001b[39;49m\u001b[38;5;241;43m.\u001b[39;49m\u001b[43m_parent\u001b[49m\u001b[38;5;241;43m.\u001b[39;49m\u001b[43mexecute\u001b[49m\u001b[43m(\u001b[49m\u001b[43mcommand\u001b[49m\u001b[43m,\u001b[49m\u001b[43m \u001b[49m\u001b[43mparams\u001b[49m\u001b[43m)\u001b[49m\n",
      "File \u001b[1;32mc:\\Users\\mazen\\AppData\\Local\\Programs\\Python\\Python313\\Lib\\site-packages\\selenium\\webdriver\\remote\\webdriver.py:429\u001b[0m, in \u001b[0;36mWebDriver.execute\u001b[1;34m(self, driver_command, params)\u001b[0m\n\u001b[0;32m    427\u001b[0m response \u001b[38;5;241m=\u001b[39m \u001b[38;5;28mself\u001b[39m\u001b[38;5;241m.\u001b[39mcommand_executor\u001b[38;5;241m.\u001b[39mexecute(driver_command, params)\n\u001b[0;32m    428\u001b[0m \u001b[38;5;28;01mif\u001b[39;00m response:\n\u001b[1;32m--> 429\u001b[0m     \u001b[38;5;28;43mself\u001b[39;49m\u001b[38;5;241;43m.\u001b[39;49m\u001b[43merror_handler\u001b[49m\u001b[38;5;241;43m.\u001b[39;49m\u001b[43mcheck_response\u001b[49m\u001b[43m(\u001b[49m\u001b[43mresponse\u001b[49m\u001b[43m)\u001b[49m\n\u001b[0;32m    430\u001b[0m     response[\u001b[38;5;124m\"\u001b[39m\u001b[38;5;124mvalue\u001b[39m\u001b[38;5;124m\"\u001b[39m] \u001b[38;5;241m=\u001b[39m \u001b[38;5;28mself\u001b[39m\u001b[38;5;241m.\u001b[39m_unwrap_value(response\u001b[38;5;241m.\u001b[39mget(\u001b[38;5;124m\"\u001b[39m\u001b[38;5;124mvalue\u001b[39m\u001b[38;5;124m\"\u001b[39m, \u001b[38;5;28;01mNone\u001b[39;00m))\n\u001b[0;32m    431\u001b[0m     \u001b[38;5;28;01mreturn\u001b[39;00m response\n",
      "File \u001b[1;32mc:\\Users\\mazen\\AppData\\Local\\Programs\\Python\\Python313\\Lib\\site-packages\\selenium\\webdriver\\remote\\errorhandler.py:232\u001b[0m, in \u001b[0;36mErrorHandler.check_response\u001b[1;34m(self, response)\u001b[0m\n\u001b[0;32m    230\u001b[0m         alert_text \u001b[38;5;241m=\u001b[39m value[\u001b[38;5;124m\"\u001b[39m\u001b[38;5;124malert\u001b[39m\u001b[38;5;124m\"\u001b[39m]\u001b[38;5;241m.\u001b[39mget(\u001b[38;5;124m\"\u001b[39m\u001b[38;5;124mtext\u001b[39m\u001b[38;5;124m\"\u001b[39m)\n\u001b[0;32m    231\u001b[0m     \u001b[38;5;28;01mraise\u001b[39;00m exception_class(message, screen, stacktrace, alert_text)  \u001b[38;5;66;03m# type: ignore[call-arg]  # mypy is not smart enough here\u001b[39;00m\n\u001b[1;32m--> 232\u001b[0m \u001b[38;5;28;01mraise\u001b[39;00m exception_class(message, screen, stacktrace)\n",
      "\u001b[1;31mStaleElementReferenceException\u001b[0m: Message: stale element reference: stale element not found in the current frame\n  (Session info: chrome=133.0.6943.99); For documentation on this error, please visit: https://www.selenium.dev/documentation/webdriver/troubleshooting/errors#stale-element-reference-exception\nStacktrace:\n\tGetHandleVerifier [0x00007FF778966F15+28773]\n\t(No symbol) [0x00007FF7788D2600]\n\t(No symbol) [0x00007FF778768FAA]\n\t(No symbol) [0x00007FF7787709B9]\n\t(No symbol) [0x00007FF77877377C]\n\t(No symbol) [0x00007FF77877384F]\n\t(No symbol) [0x00007FF7787B8EC6]\n\t(No symbol) [0x00007FF7787E724A]\n\t(No symbol) [0x00007FF7787B1B36]\n\t(No symbol) [0x00007FF7787E7460]\n\t(No symbol) [0x00007FF77880F6F3]\n\t(No symbol) [0x00007FF7787E7023]\n\t(No symbol) [0x00007FF7787AFF5E]\n\t(No symbol) [0x00007FF7787B11E3]\n\tGetHandleVerifier [0x00007FF778CB425D+3490733]\n\tGetHandleVerifier [0x00007FF778CCBA43+3586963]\n\tGetHandleVerifier [0x00007FF778CC147D+3544525]\n\tGetHandleVerifier [0x00007FF778A2C9DA+838442]\n\t(No symbol) [0x00007FF7788DD04F]\n\t(No symbol) [0x00007FF7788D9614]\n\t(No symbol) [0x00007FF7788D97B6]\n\t(No symbol) [0x00007FF7788C8CE9]\n\tBaseThreadInitThunk [0x00007FFDC321E8D7+23]\n\tRtlUserThreadStart [0x00007FFDC3F1BF2C+44]\n"
     ]
    }
   ],
   "source": [
    "for item in like:\n",
    "    #rates.append(item.text)\n",
    "    print(len(item))\n",
    "    for data in item:\n",
    "        print(data.text)"
   ]
  },
  {
   "cell_type": "code",
   "execution_count": 31,
   "metadata": {},
   "outputs": [
    {
     "name": "stdout",
     "output_type": "stream",
     "text": [
      "\n",
      "46\n",
      "46\n",
      "\n",
      "67\n",
      "67\n",
      "\n",
      "77\n",
      "77\n",
      "\n",
      "37\n",
      "37\n",
      "Collected likes: ['', '46', '46', '', '67', '67', '', '77', '77', '', '37', '37']\n"
     ]
    }
   ],
   "source": [
    "import os\n",
    "import time\n",
    "from selenium import webdriver\n",
    "from selenium.webdriver.chrome.service import Service\n",
    "from selenium.webdriver.common.by import By\n",
    "from selenium.webdriver.support.ui import WebDriverWait\n",
    "from selenium.webdriver.support import expected_conditions as EC\n",
    "\n",
    "options = webdriver.ChromeOptions()\n",
    "user_data_dir = os.path.abspath(\"MazenProfile1\")\n",
    "options.add_argument(\"--user-data-dir=\" + user_data_dir)\n",
    "\n",
    "driver_path = \"E:/Courses/DataExploration/Lab1/data/chromedriver-win64/chromedriver-win64/chromedriver.exe\"\n",
    "service = Service(driver_path)\n",
    "\n",
    "scrapper = webdriver.Chrome(service=service, options=options)\n",
    "scrapper.get(\"https://www.facebook.com/EgyptianCabinet\")\n",
    "\n",
    "pause_time = 2\n",
    "last_height = scrapper.execute_script(\"return document.body.scrollHeight\")\n",
    "\n",
    "while True:\n",
    "    # Scroll down by a small increment\n",
    "    scrapper.execute_script(\"window.scrollBy(0, 1000);\")\n",
    "    \n",
    "    # Wait for the page to load new content\n",
    "    time.sleep(pause_time)\n",
    "    \n",
    "    # Check if there are more elements to load\n",
    "    new_height = scrapper.execute_script(\"return document.body.scrollHeight\")\n",
    "    if new_height == last_height:\n",
    "        break\n",
    "    last_height = new_height\n",
    "\n",
    "# Use a list to store the likes data\n",
    "likes_data = []\n",
    "\n",
    "# Scroll back to the top of the page\n",
    "scrapper.execute_script(\"window.scrollTo(0, 0);\")\n",
    "\n",
    "# Locate and print likes\n",
    "while True:\n",
    "    likes = scrapper.find_elements(By.XPATH, \"//span[contains(@class, 'x1e558r4')]\")\n",
    "    \n",
    "    for item in likes:\n",
    "        likes_data.append(item.text)\n",
    "        print(item.text)\n",
    "    \n",
    "    # Scroll down by a small increment\n",
    "    scrapper.execute_script(\"window.scrollBy(0, 1000);\")\n",
    "    \n",
    "    # Wait for the page to load new content\n",
    "    time.sleep(pause_time)\n",
    "    \n",
    "    # Check if there are more elements to load\n",
    "    new_height = scrapper.execute_script(\"return document.body.scrollHeight\")\n",
    "    if new_height == last_height:\n",
    "        break\n",
    "    last_height = new_height\n",
    "\n",
    "print(\"Collected likes:\", likes_data)\n"
   ]
  }
 ],
 "metadata": {
  "kernelspec": {
   "display_name": "Python 3",
   "language": "python",
   "name": "python3"
  },
  "language_info": {
   "codemirror_mode": {
    "name": "ipython",
    "version": 3
   },
   "file_extension": ".py",
   "mimetype": "text/x-python",
   "name": "python",
   "nbconvert_exporter": "python",
   "pygments_lexer": "ipython3",
   "version": "3.13.0"
  }
 },
 "nbformat": 4,
 "nbformat_minor": 2
}
